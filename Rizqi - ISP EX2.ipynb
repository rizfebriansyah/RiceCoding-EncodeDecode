{
 "cells": [
  {
   "cell_type": "code",
   "execution_count": 1,
   "metadata": {},
   "outputs": [],
   "source": [
    "import sys\n",
    "from thinkdsp import read_wave\n",
    "import numpy as np\n",
    "import scipy.io.wavfile\n",
    "import wave\n",
    "import math"
   ]
  },
  {
   "cell_type": "code",
   "execution_count": 2,
   "metadata": {},
   "outputs": [],
   "source": [
    "soundAudioFile1 = 'Sound1.wav'\n",
    "soundAudioFile2 = 'Sound2.wav'"
   ]
  },
  {
   "cell_type": "code",
   "execution_count": 3,
   "metadata": {},
   "outputs": [],
   "source": [
    "#initialise wav file\n",
    "audio1 = wave.open(soundAudioFile1, mode = 'rb')\n",
    "audio2 = wave.open(soundAudioFile2, mode = 'rb')"
   ]
  },
  {
   "cell_type": "code",
   "execution_count": 4,
   "metadata": {},
   "outputs": [],
   "source": [
    "#frames to byte array conversion\n",
    "audioFrame1 = bytearray(list(audio1.readframes(audio1.getnframes())))\n",
    "audioFrame2 = bytearray(list(audio2.readframes(audio2.getnframes())))"
   ]
  },
  {
   "cell_type": "markdown",
   "metadata": {},
   "source": [
    "<b>Rice Coding</b>"
   ]
  },
  {
   "cell_type": "code",
   "execution_count": 5,
   "metadata": {},
   "outputs": [],
   "source": [
    "def rice_coding(frames, K):\n",
    "    M = 2 ** K\n",
    "    binary_string = ''\n",
    "    \n",
    "    for frame in frames:\n",
    "        q = math.floor(frame/M)\n",
    "        quotient_code = ''\n",
    "       \n",
    "        #finding the quotient, q\n",
    "        for i in range(q):\n",
    "            quotient_code += '1'\n",
    "        quotient_code += '0'\n",
    "        \n",
    "        #finding the remainder, r\n",
    "        r = frame % M\n",
    "        remainder_code = bin(r)[2:].zfill(K)\n",
    "        code_word = quotient_code + remainder_code\n",
    "        binary_string += code_word\n",
    "    return binary_string"
   ]
  },
  {
   "cell_type": "markdown",
   "metadata": {},
   "source": [
    "<b>Encoding</b>"
   ]
  },
  {
   "cell_type": "markdown",
   "metadata": {},
   "source": [
    "Encode for Sound1"
   ]
  },
  {
   "cell_type": "code",
   "execution_count": 6,
   "metadata": {},
   "outputs": [],
   "source": [
    "binarySoundAudio1K4 = rice_coding(audioFrame1, 4)\n",
    "binarySoundAudio1K2 = rice_coding(audioFrame1, 2)"
   ]
  },
  {
   "cell_type": "markdown",
   "metadata": {},
   "source": [
    "Encode for Sound2"
   ]
  },
  {
   "cell_type": "code",
   "execution_count": 7,
   "metadata": {},
   "outputs": [],
   "source": [
    "binarySoundAudio2K4 = rice_coding(audioFrame2, 4)\n",
    "binarySoundAudio2K2 = rice_coding(audioFrame2, 2)"
   ]
  },
  {
   "cell_type": "markdown",
   "metadata": {},
   "source": [
    "Now let's write to Sound1 where K = 2"
   ]
  },
  {
   "cell_type": "code",
   "execution_count": 8,
   "metadata": {},
   "outputs": [
    {
     "name": "stdout",
     "output_type": "stream",
     "text": [
      "written to Sound1 where K = 2 successful\n"
     ]
    }
   ],
   "source": [
    "file = open(\"Sound1_Enc_K2.ex2\", \"w\") \n",
    "file.write(binarySoundAudio1K2) \n",
    "file.close()\n",
    "print('written to Sound1 where K = 2 successful')"
   ]
  },
  {
   "cell_type": "markdown",
   "metadata": {},
   "source": [
    "Now let's write to Sound1 where K = 4"
   ]
  },
  {
   "cell_type": "code",
   "execution_count": 9,
   "metadata": {},
   "outputs": [
    {
     "name": "stdout",
     "output_type": "stream",
     "text": [
      "written to Sound1 where K = 4 successful\n"
     ]
    }
   ],
   "source": [
    "file = open(\"Sound1_Enc_K4.ex2\", \"w\") \n",
    "file.write(binarySoundAudio1K4) \n",
    "file.close()\n",
    "print('written to Sound1 where K = 4 successful') "
   ]
  },
  {
   "cell_type": "markdown",
   "metadata": {},
   "source": [
    "Now let's write to Sound2 where K = 2"
   ]
  },
  {
   "cell_type": "code",
   "execution_count": 10,
   "metadata": {},
   "outputs": [
    {
     "name": "stdout",
     "output_type": "stream",
     "text": [
      "written to Sound2 where K = 2 successful\n"
     ]
    }
   ],
   "source": [
    "file = open(\"Sound2_Enc_K2.ex2\", \"w\") \n",
    "file.write(binarySoundAudio2K2) \n",
    "file.close()\n",
    "print('written to Sound2 where K = 2 successful')"
   ]
  },
  {
   "cell_type": "markdown",
   "metadata": {},
   "source": [
    "Now let's write to Sound2 where K = 4"
   ]
  },
  {
   "cell_type": "code",
   "execution_count": 11,
   "metadata": {},
   "outputs": [
    {
     "name": "stdout",
     "output_type": "stream",
     "text": [
      "written to Sound2 where K = 4 successful\n"
     ]
    }
   ],
   "source": [
    "file = open(\"Sound2_Enc_K4.ex2\", \"w\") \n",
    "file.write(binarySoundAudio2K4) \n",
    "file.close()\n",
    "print('written to Sound2 where K = 4 successful')"
   ]
  },
  {
   "cell_type": "markdown",
   "metadata": {},
   "source": [
    "<b>Decoding</b>"
   ]
  },
  {
   "cell_type": "code",
   "execution_count": 12,
   "metadata": {},
   "outputs": [],
   "source": [
    "def acquire_quotient(frame):\n",
    "    frame = str(frame)\n",
    "    count = 0\n",
    "\n",
    "    for i in frame:\n",
    "        if i == '1':\n",
    "            count += 1\n",
    "        else:\n",
    "            return count\n",
    "    return count"
   ]
  },
  {
   "cell_type": "code",
   "execution_count": 13,
   "metadata": {},
   "outputs": [],
   "source": [
    "def acquire_remainder(frame, K, q):\n",
    "    frame = str(frame)\n",
    "    frame = frame[q+1:]\n",
    "    r = int(frame, 2)\n",
    "    \n",
    "    return r"
   ]
  },
  {
   "cell_type": "code",
   "execution_count": 14,
   "metadata": {},
   "outputs": [],
   "source": [
    "def acquire_S(frame, K):\n",
    "    M = 2 ** K\n",
    "    q = acquire_quotient(frame)\n",
    "    r = acquire_remainder(frame, K, q)\n",
    "    S = q*M+r\n",
    "    \n",
    "    return S"
   ]
  },
  {
   "cell_type": "code",
   "execution_count": 15,
   "metadata": {},
   "outputs": [],
   "source": [
    "def audio_decode(K, binaryAudioFile):\n",
    "    \n",
    "    binaryOpenAudioFile = open(binaryAudioFile, \"r\")\n",
    "    binaryDataAudioFile = binaryOpenAudioFile.read()\n",
    "    \n",
    "    decodedFramesAudio = bytearray()\n",
    "    i = 0\n",
    "    string = ''\n",
    "    while i < len(binaryDataAudioFile):\n",
    "        if binaryDataAudioFile[i] == '1':\n",
    "            string += '1'\n",
    "            i+=1\n",
    "        #if the first 0 is reached, add 0 and the following K numbers\n",
    "        elif binaryDataAudioFile[i] == '0':\n",
    "            string += (binaryDataAudioFile[i:i+(K+1)])\n",
    "            i+=(K+1)\n",
    "            #this will add and insert into bytearray\n",
    "            decodedFramesAudio.append(acquire_S(string, K)) \n",
    "            string = ''\n",
    "    return decodedFramesAudio"
   ]
  },
  {
   "cell_type": "markdown",
   "metadata": {},
   "source": [
    "Decoding for Sound1"
   ]
  },
  {
   "cell_type": "code",
   "execution_count": 16,
   "metadata": {},
   "outputs": [],
   "source": [
    "decodedFramesSoundAudio1K2 = audio_decode(2, 'Sound1_Enc_K2.ex2')\n",
    "decodedFramesSoundAudio1K4 = audio_decode(4, 'Sound1_Enc_K4.ex2')"
   ]
  },
  {
   "cell_type": "markdown",
   "metadata": {},
   "source": [
    "Decoding for Sound2"
   ]
  },
  {
   "cell_type": "code",
   "execution_count": 17,
   "metadata": {},
   "outputs": [],
   "source": [
    "decodedFramesSoundAudio2K2 = audio_decode(2, 'Sound2_Enc_K2.ex2')\n",
    "decodedFramesSoundAudio2K4 = audio_decode(4, 'Sound2_Enc_K4.ex2')"
   ]
  },
  {
   "cell_type": "markdown",
   "metadata": {},
   "source": [
    "<b> Now we need to see whether the original wav frames could be reconstructed </b>"
   ]
  },
  {
   "cell_type": "markdown",
   "metadata": {},
   "source": [
    "Sound1 K = 2"
   ]
  },
  {
   "cell_type": "code",
   "execution_count": 18,
   "metadata": {},
   "outputs": [
    {
     "data": {
      "text/plain": [
       "True"
      ]
     },
     "execution_count": 18,
     "metadata": {},
     "output_type": "execute_result"
    }
   ],
   "source": [
    "decodedFramesSoundAudio1K2 == audioFrame1"
   ]
  },
  {
   "cell_type": "markdown",
   "metadata": {},
   "source": [
    "Sound1 K = 4"
   ]
  },
  {
   "cell_type": "code",
   "execution_count": 19,
   "metadata": {},
   "outputs": [
    {
     "data": {
      "text/plain": [
       "True"
      ]
     },
     "execution_count": 19,
     "metadata": {},
     "output_type": "execute_result"
    }
   ],
   "source": [
    "decodedFramesSoundAudio1K4 == audioFrame1"
   ]
  },
  {
   "cell_type": "markdown",
   "metadata": {},
   "source": [
    "Sound2 K = 2"
   ]
  },
  {
   "cell_type": "code",
   "execution_count": 20,
   "metadata": {},
   "outputs": [
    {
     "data": {
      "text/plain": [
       "True"
      ]
     },
     "execution_count": 20,
     "metadata": {},
     "output_type": "execute_result"
    }
   ],
   "source": [
    "decodedFramesSoundAudio2K2 == audioFrame2"
   ]
  },
  {
   "cell_type": "markdown",
   "metadata": {},
   "source": [
    "Sound2 K = 4"
   ]
  },
  {
   "cell_type": "code",
   "execution_count": 21,
   "metadata": {},
   "outputs": [
    {
     "data": {
      "text/plain": [
       "True"
      ]
     },
     "execution_count": 21,
     "metadata": {},
     "output_type": "execute_result"
    }
   ],
   "source": [
    "decodedFramesSoundAudio2K4 == audioFrame2"
   ]
  },
  {
   "cell_type": "markdown",
   "metadata": {},
   "source": [
    "<b>The final wav file is created</b>"
   ]
  },
  {
   "cell_type": "code",
   "execution_count": 22,
   "metadata": {},
   "outputs": [],
   "source": [
    "def create_decoded_sound_audio(K, decodedFramesAudio, resultingSoundAudioFile):\n",
    "    \n",
    "    getParamsFrom = resultingSoundAudioFile.split('_')[0] + '.wav'\n",
    "    originalSoundAudioFile = wave.open(getParamsFrom, mode=\"rb\")\n",
    "    \n",
    "    newSoundAudio = wave.open(resultingSoundAudioFile,\"wb\")\n",
    "    newSoundAudio.setparams(originalSoundAudioFile.getparams())\n",
    "    newSoundAudio.writeframes(decodedFramesAudio)\n",
    "    \n",
    "    newSoundAudio.close()\n",
    "    originalSoundAudioFile.close()\n",
    "    \n",
    "    return 1"
   ]
  },
  {
   "cell_type": "markdown",
   "metadata": {},
   "source": [
    "Sound1 K = 2"
   ]
  },
  {
   "cell_type": "code",
   "execution_count": 23,
   "metadata": {},
   "outputs": [
    {
     "data": {
      "text/plain": [
       "1"
      ]
     },
     "execution_count": 23,
     "metadata": {},
     "output_type": "execute_result"
    }
   ],
   "source": [
    "create_decoded_sound_audio(2, decodedFramesSoundAudio1K2, 'Sound1_Enc_Dec_K2.wav')"
   ]
  },
  {
   "cell_type": "markdown",
   "metadata": {},
   "source": [
    "Sound1 K = 4"
   ]
  },
  {
   "cell_type": "code",
   "execution_count": 24,
   "metadata": {},
   "outputs": [
    {
     "data": {
      "text/plain": [
       "1"
      ]
     },
     "execution_count": 24,
     "metadata": {},
     "output_type": "execute_result"
    }
   ],
   "source": [
    "create_decoded_sound_audio(4, decodedFramesSoundAudio1K4, 'Sound1_Enc_Dec_K4.wav')"
   ]
  },
  {
   "cell_type": "markdown",
   "metadata": {},
   "source": [
    "Sound2 K = 2"
   ]
  },
  {
   "cell_type": "code",
   "execution_count": 25,
   "metadata": {},
   "outputs": [
    {
     "data": {
      "text/plain": [
       "1"
      ]
     },
     "execution_count": 25,
     "metadata": {},
     "output_type": "execute_result"
    }
   ],
   "source": [
    "create_decoded_sound_audio(2, decodedFramesSoundAudio2K2, 'Sound2_Enc_Dec_K2.wav')"
   ]
  },
  {
   "cell_type": "markdown",
   "metadata": {},
   "source": [
    "Sound2 K = 4"
   ]
  },
  {
   "cell_type": "code",
   "execution_count": 26,
   "metadata": {},
   "outputs": [
    {
     "data": {
      "text/plain": [
       "1"
      ]
     },
     "execution_count": 26,
     "metadata": {},
     "output_type": "execute_result"
    }
   ],
   "source": [
    "create_decoded_sound_audio(4, decodedFramesSoundAudio2K4, 'Sound2_Enc_Dec_K4.wav')"
   ]
  }
 ],
 "metadata": {
  "kernelspec": {
   "display_name": "Python 3",
   "language": "python",
   "name": "python3"
  },
  "language_info": {
   "codemirror_mode": {
    "name": "ipython",
    "version": 3
   },
   "file_extension": ".py",
   "mimetype": "text/x-python",
   "name": "python",
   "nbconvert_exporter": "python",
   "pygments_lexer": "ipython3",
   "version": "3.8.5"
  }
 },
 "nbformat": 4,
 "nbformat_minor": 4
}
